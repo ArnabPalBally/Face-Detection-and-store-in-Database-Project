{
 "cells": [
  {
   "cell_type": "markdown",
   "id": "946b134d",
   "metadata": {},
   "source": [
    "# Import library for cropping the images"
   ]
  },
  {
   "cell_type": "code",
   "execution_count": 1,
   "id": "8a65dc45",
   "metadata": {},
   "outputs": [],
   "source": [
    "import cv2\n",
    "import dlib\n",
    "import tkinter as tk \n",
    "from tkinter import filedialog "
   ]
  },
  {
   "cell_type": "markdown",
   "id": "d65da5a7",
   "metadata": {},
   "source": [
    "# To access get_frontal_face_detector class to access frontal face of a person"
   ]
  },
  {
   "cell_type": "code",
   "execution_count": 2,
   "id": "4d80268f",
   "metadata": {},
   "outputs": [],
   "source": [
    "detector = dlib.get_frontal_face_detector()"
   ]
  },
  {
   "cell_type": "markdown",
   "id": "23d79aa3",
   "metadata": {},
   "source": [
    "# Path for saving all cropped images"
   ]
  },
  {
   "cell_type": "code",
   "execution_count": 3,
   "id": "de9998ed",
   "metadata": {},
   "outputs": [],
   "source": [
    "new_path ='E:\\\\Departmental_Project_College\\\\Cropped Image\\\\pic '"
   ]
  },
  {
   "cell_type": "markdown",
   "id": "e57746fc",
   "metadata": {},
   "source": [
    "# To draw stylish rectangle around the objects"
   ]
  },
  {
   "cell_type": "code",
   "execution_count": 4,
   "id": "41899773",
   "metadata": {},
   "outputs": [],
   "source": [
    "def MyRec(rgb,x,y,w,h,v=20,color=(200,0,0),thikness =2):\n",
    "    #cv2.line(image, start_point, end_point, color, thickness)\n",
    "    #Left-Top Corner\n",
    "    cv2.line(rgb, (x,y),(x+v,y), color, thikness)\n",
    "    cv2.line(rgb, (x,y),(x,y+v), color, thikness)\n",
    "    #right-Top corner\n",
    "    cv2.line(rgb, (x+w,y),(x+w-v,y), color, thikness)\n",
    "    cv2.line(rgb, (x+w,y),(x+w,y+v), color, thikness)\n",
    "    #Left-Down corner\n",
    "    cv2.line(rgb, (x,y+h),(x,y+h-v), color, thikness)\n",
    "    cv2.line(rgb, (x,y+h),(x+v,y+h), color, thikness)\n",
    "    #right-Down corner\n",
    "    cv2.line(rgb, (x+w,y+h),(x+w,y+h-v), color, thikness)\n",
    "    cv2.line(rgb, (x+w,y+h),(x+w-v,y+h), color, thikness)"
   ]
  },
  {
   "cell_type": "markdown",
   "id": "54a27b88",
   "metadata": {},
   "source": [
    "# To save the images"
   ]
  },
  {
   "cell_type": "code",
   "execution_count": 5,
   "id": "85f19c5f",
   "metadata": {},
   "outputs": [],
   "source": [
    "def save(img,i,name, bbox, width=180,height=227):\n",
    "    i=str(i)\n",
    "    x, y, w, h = bbox\n",
    "    imgCrop = img[y:h, x: w]\n",
    "    if imgCrop is None:\n",
    "        print(\"Wrong Path\")\n",
    "        return\n",
    "    imgCrop = cv2.resize(imgCrop, (width, height))#we need this line to reshape the images\n",
    "    cv2.imwrite(name+i+\".jpg\", imgCrop)\n"
   ]
  },
  {
   "cell_type": "markdown",
   "id": "529d5352",
   "metadata": {},
   "source": [
    "# Face Detection Function"
   ]
  },
  {
   "cell_type": "code",
   "execution_count": 6,
   "id": "5a10a964",
   "metadata": {},
   "outputs": [],
   "source": [
    "def faces(path_file,i):\n",
    "    frame =cv2.imread(path_file)\n",
    "    #Below line is use for Gray image\n",
    "    #gray =cv2.cvtColor(frame,cv2.COLOR_BGR2GRAY)\n",
    "    faces = detector(frame)\n",
    "    # detect the face\n",
    "    for counter,face in enumerate(faces):\n",
    "        print(counter)\n",
    "        x1, y1 = face.left(), face.top()\n",
    "        x2, y2 = face.right(), face.bottom()\n",
    "        cv2.rectangle(frame,(x1,y1),(x2,y2),(220,255,220),1)\n",
    "        MyRec(frame, x1, y1, x2 - x1, y2 - y1, 10, (0,250,0), 3)\n",
    "        #save(gray,new_path+str(counter),(x1,y1,x2,y2))\n",
    "        save(frame,i,new_path+str(counter),(x1,y1,x2,y2))\n",
    "    frame = cv2.resize(frame,(800,800))\n",
    "    cv2.imshow('img',frame)\n",
    "    cv2.waitKey(0)\n",
    "    print(\"done saving\")"
   ]
  },
  {
   "cell_type": "code",
   "execution_count": 7,
   "id": "c04577a3",
   "metadata": {},
   "outputs": [
    {
     "name": "stdout",
     "output_type": "stream",
     "text": [
      "Enter total number of picture:-5\n",
      "0\n",
      "done saving\n",
      "0\n",
      "1\n",
      "2\n",
      "3\n",
      "4\n",
      "5\n",
      "done saving\n",
      "0\n",
      "done saving\n",
      "0\n",
      "1\n",
      "2\n",
      "3\n",
      "4\n",
      "5\n",
      "6\n",
      "7\n",
      "8\n",
      "done saving\n",
      "0\n",
      "done saving\n"
     ]
    }
   ],
   "source": [
    "n=int(input(\"Enter total number of picture:-\"))\n",
    "for i in range(n):\n",
    "    root = tk.Tk() \n",
    "    root.withdraw() \n",
    "    file_path = filedialog.askopenfilename()\n",
    "    x=file_path.replace(\"/\",\"\\\\\")\n",
    "    faces(x,i)"
   ]
  },
  {
   "cell_type": "markdown",
   "id": "245b5a59",
   "metadata": {},
   "source": [
    "# Make Image DataBase"
   ]
  },
  {
   "cell_type": "markdown",
   "id": "156197d4",
   "metadata": {},
   "source": [
    "# Library import"
   ]
  },
  {
   "cell_type": "code",
   "execution_count": 8,
   "id": "acda2490",
   "metadata": {},
   "outputs": [],
   "source": [
    "import mysql.connector"
   ]
  },
  {
   "cell_type": "code",
   "execution_count": 9,
   "id": "4a6d47d1",
   "metadata": {},
   "outputs": [],
   "source": [
    "MyDB=mysql.connector.connect(\n",
    "    host=\"localhost\",\n",
    "    user=\"root\",\n",
    "    password=\"Bally@2022\",\n",
    ")"
   ]
  },
  {
   "cell_type": "code",
   "execution_count": 10,
   "id": "1b17bbdb",
   "metadata": {},
   "outputs": [
    {
     "name": "stdout",
     "output_type": "stream",
     "text": [
      "enter database name db2\n",
      "DataBase Created\n"
     ]
    }
   ],
   "source": [
    "MyCursor=MyDB.cursor()\n",
    "MyCursor.execute(\"show databases\")\n",
    "lst=MyCursor.fetchall()\n",
    "data_name=input(\"enter database name \")\n",
    "if(data_name,)in lst:\n",
    "    print(\"exist DataBase\")\n",
    "else:\n",
    "    MyCursor.execute(\"CREATE DATABASE {}\".format(data_name))\n",
    "    print(\"DataBase Created\")"
   ]
  },
  {
   "cell_type": "code",
   "execution_count": 11,
   "id": "27b6f585",
   "metadata": {},
   "outputs": [],
   "source": [
    "mydb = mysql.connector.connect(\n",
    "  host=\"localhost\",\n",
    "  user=\"root\",\n",
    "  password=\"Bally@2022\",\n",
    "  database=data_name\n",
    ")\n",
    "\n",
    "mycursor = mydb.cursor()\n",
    "mycursor.execute(\"CREATE TABLE IF NOT EXISTS Image (id INTEGER(45) NOT NULL AUTO_INCREMENT PRIMARY KEY,Photo LONGBLOB NOT NULL)\")"
   ]
  },
  {
   "cell_type": "code",
   "execution_count": 12,
   "id": "3c967d21",
   "metadata": {},
   "outputs": [],
   "source": [
    "def convertToBinaryData(filename):\n",
    "    # Convert digital data to binary format\n",
    "    with open(filename, 'rb') as file:\n",
    "        binaryData = file.read()\n",
    "    return binaryData"
   ]
  },
  {
   "cell_type": "code",
   "execution_count": 13,
   "id": "c23f45c3",
   "metadata": {},
   "outputs": [],
   "source": [
    "def insertBLOB(id,photo):\n",
    "    print(\"Inserting BLOB into python_employee table\")\n",
    "    try:\n",
    "        connection = mysql.connector.connect(host='localhost',\n",
    "                                             database=data_name,\n",
    "                                             user='root',\n",
    "                                             password='Bally@2022')\n",
    "\n",
    "        cursor = connection.cursor()\n",
    "        sql_insert_blob_query = \"\"\" INSERT INTO Image(id,photo) VALUES (%s,%s)\"\"\"\n",
    "\n",
    "        empPicture = convertToBinaryData(photo)\n",
    "        # Convert data into tuple format\n",
    "        insert_blob_tuple = (id,empPicture)\n",
    "        result = cursor.execute(sql_insert_blob_query, insert_blob_tuple)\n",
    "        connection.commit()\n",
    "        print(\"Image and file inserted successfully as a BLOB into python_employee table\", result)\n",
    "\n",
    "    except mysql.connector.Error as error:\n",
    "        print(\"Failed inserting BLOB data into MySQL table {}\".format(error))\n",
    "\n",
    "    finally:\n",
    "        if connection.is_connected():\n",
    "            cursor.close()\n",
    "            connection.close()\n",
    "            print(\"MySQL connection is closed\")"
   ]
  },
  {
   "cell_type": "code",
   "execution_count": 16,
   "id": "b67128b9",
   "metadata": {},
   "outputs": [
    {
     "name": "stdout",
     "output_type": "stream",
     "text": [
      "No of picture you want to put in your database:-2\n"
     ]
    }
   ],
   "source": [
    "n=int(input(\"No of picture you want to put in your database:-\"))"
   ]
  },
  {
   "cell_type": "code",
   "execution_count": 17,
   "id": "45392c03",
   "metadata": {},
   "outputs": [],
   "source": [
    "def wantToInsert():\n",
    "    for i in range(1,n+1):\n",
    "        root = tk.Tk() \n",
    "        root.withdraw() \n",
    "        file_path = filedialog.askopenfilename()\n",
    "        x=file_path.replace(\"/\",\"\\\\\")\n",
    "        insertBLOB(i,x)\n",
    "    "
   ]
  },
  {
   "cell_type": "code",
   "execution_count": 18,
   "id": "8a744b87",
   "metadata": {},
   "outputs": [
    {
     "name": "stdout",
     "output_type": "stream",
     "text": [
      "Inserting BLOB into python_employee table\n",
      "Image and file inserted successfully as a BLOB into python_employee table None\n",
      "MySQL connection is closed\n",
      "Inserting BLOB into python_employee table\n",
      "Image and file inserted successfully as a BLOB into python_employee table None\n",
      "MySQL connection is closed\n"
     ]
    }
   ],
   "source": [
    "wantToInsert()"
   ]
  },
  {
   "cell_type": "code",
   "execution_count": 17,
   "id": "9a281c79",
   "metadata": {},
   "outputs": [],
   "source": [
    "def write_file(data, filename):\n",
    "    # Convert binary data to proper format and write it on Hard Disk\n",
    "    with open(filename, 'wb') as file:\n",
    "        file.write(data)"
   ]
  },
  {
   "cell_type": "code",
   "execution_count": 18,
   "id": "7980fe6e",
   "metadata": {},
   "outputs": [],
   "source": [
    "def readBLOB(id, photo):\n",
    "    print(\"Reading BLOB data from python_employee table\")\n",
    "\n",
    "    try:\n",
    "        connection = mysql.connector.connect(host='localhost',\n",
    "                                             database=data_name,\n",
    "                                             user='root',\n",
    "                                             password='Bally@2022')\n",
    "\n",
    "        cursor = connection.cursor()\n",
    "        sql_fetch_blob_query = \"\"\"SELECT * from Image where id = %s\"\"\"\n",
    "\n",
    "        cursor.execute(sql_fetch_blob_query, (id,))\n",
    "        record = cursor.fetchall()\n",
    "        for row in record:\n",
    "            print(\"Id = \", row[0], )\n",
    "            image = row[1]\n",
    "            print(\"Storing employee image and bio-data on disk \\n\")\n",
    "            write_file(image, photo)\n",
    "\n",
    "    except mysql.connector.Error as error:\n",
    "        print(\"Failed to read BLOB data from MySQL table {}\".format(error))\n",
    "\n",
    "    finally:\n",
    "        if connection.is_connected():\n",
    "            cursor.close()\n",
    "            connection.close()\n",
    "            print(\"MySQL connection is closed\")"
   ]
  },
  {
   "cell_type": "code",
   "execution_count": 19,
   "id": "b689b5d6",
   "metadata": {},
   "outputs": [],
   "source": [
    "stored_path ='E:\\\\Departmental_Project_College\\\\Stored_From_Data_Base\\\\New Bitmap Image.bmp '"
   ]
  },
  {
   "cell_type": "code",
   "execution_count": 20,
   "id": "6bdb260a",
   "metadata": {},
   "outputs": [],
   "source": [
    "def wantToExtract():\n",
    "    for i in range(1,n+1):\n",
    "        readBLOB(i,stored_path)"
   ]
  },
  {
   "cell_type": "code",
   "execution_count": 21,
   "id": "c8049f73",
   "metadata": {},
   "outputs": [
    {
     "name": "stdout",
     "output_type": "stream",
     "text": [
      "Reading BLOB data from python_employee table\n",
      "Id =  1\n",
      "Storing employee image and bio-data on disk \n",
      "\n",
      "MySQL connection is closed\n",
      "Reading BLOB data from python_employee table\n",
      "Id =  2\n",
      "Storing employee image and bio-data on disk \n",
      "\n",
      "MySQL connection is closed\n",
      "Reading BLOB data from python_employee table\n",
      "Id =  3\n",
      "Storing employee image and bio-data on disk \n",
      "\n",
      "MySQL connection is closed\n",
      "Reading BLOB data from python_employee table\n",
      "Id =  4\n",
      "Storing employee image and bio-data on disk \n",
      "\n",
      "MySQL connection is closed\n"
     ]
    }
   ],
   "source": [
    "wantToExtract()\n"
   ]
  },
  {
   "cell_type": "code",
   "execution_count": null,
   "id": "17c8be11",
   "metadata": {},
   "outputs": [],
   "source": []
  }
 ],
 "metadata": {
  "kernelspec": {
   "display_name": "Python 3 (ipykernel)",
   "language": "python",
   "name": "python3"
  },
  "language_info": {
   "codemirror_mode": {
    "name": "ipython",
    "version": 3
   },
   "file_extension": ".py",
   "mimetype": "text/x-python",
   "name": "python",
   "nbconvert_exporter": "python",
   "pygments_lexer": "ipython3",
   "version": "3.10.6"
  }
 },
 "nbformat": 4,
 "nbformat_minor": 5
}
